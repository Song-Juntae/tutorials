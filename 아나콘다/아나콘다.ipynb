{
 "cells": [
  {
   "cell_type": "code",
   "execution_count": 1,
   "metadata": {},
   "outputs": [],
   "source": [
    "import os"
   ]
  },
  {
   "cell_type": "code",
   "execution_count": 16,
   "metadata": {},
   "outputs": [
    {
     "data": {
      "text/plain": [
       "['/home/sjt/space/github/tutorials/아나콘다/requirements/ai_requirements.txt',\n",
       " '/home/sjt/space/github/tutorials/아나콘다/requirements/lama3_requirements.txt']"
      ]
     },
     "execution_count": 16,
     "metadata": {},
     "output_type": "execute_result"
    }
   ],
   "source": [
    "parent_path = '/home/sjt/space/github/tutorials/아나콘다/requirements/'\n",
    "\n",
    "requirements = os.listdir(parent_path)\n",
    "requirement_paths = [parent_path+i for i in requirements]\n",
    "\n",
    "requirement_paths"
   ]
  },
  {
   "cell_type": "code",
   "execution_count": 20,
   "metadata": {},
   "outputs": [],
   "source": [
    "with open('/home/sjt/space/github/tutorials/아나콘다/requirements/ai_requirements.txt', 'r') as f:\n",
    "    ai_requirements = f.read()"
   ]
  },
  {
   "cell_type": "code",
   "execution_count": 21,
   "metadata": {},
   "outputs": [],
   "source": [
    "with open('/home/sjt/space/github/tutorials/아나콘다/requirements/lama3_requirements.txt', 'r') as f:\n",
    "    lama3_requirements = f.read()"
   ]
  },
  {
   "cell_type": "code",
   "execution_count": 22,
   "metadata": {},
   "outputs": [],
   "source": [
    "set_ai_requirements = set([i.split('=')[0] for i in ai_requirements.split('\\n')[3:]])\n",
    "set_lama3_requirements = set([i.split('=')[0] for i in lama3_requirements.split('\\n')[3:]])"
   ]
  },
  {
   "cell_type": "code",
   "execution_count": 37,
   "metadata": {},
   "outputs": [
    {
     "data": {
      "text/plain": [
       "{'binutils_impl_linux-64',\n",
       " 'blas',\n",
       " 'blobfile',\n",
       " 'cudatoolkit',\n",
       " 'dbus',\n",
       " 'fairscale',\n",
       " 'fire',\n",
       " 'gcc_impl_linux-64',\n",
       " 'glib',\n",
       " 'glib-tools',\n",
       " 'gst-plugins-base',\n",
       " 'gstreamer',\n",
       " 'intel-openmp',\n",
       " 'jpeg',\n",
       " 'kernel-headers_linux-64',\n",
       " 'libarrow-flight',\n",
       " 'libarrow-flight-sql',\n",
       " 'libarrow-gandiva',\n",
       " 'libclang',\n",
       " 'libclang13',\n",
       " 'libcups',\n",
       " 'libgcc-devel_linux-64',\n",
       " 'libgomp',\n",
       " 'libllvm16',\n",
       " 'libnl',\n",
       " 'libpq',\n",
       " 'libsanitizer',\n",
       " 'libxkbcommon',\n",
       " 'llama3',\n",
       " 'lxml',\n",
       " 'matplotlib',\n",
       " 'mysql',\n",
       " 'ply',\n",
       " 'pycryptodomex',\n",
       " 'pyqt',\n",
       " 'pyqt5-sip',\n",
       " 'qt-main',\n",
       " 'rdma-core',\n",
       " 'rust',\n",
       " 'rust-std-x86_64-unknown-linux-gnu',\n",
       " 'semantic_version',\n",
       " 'setuptools-rust',\n",
       " 'sip',\n",
       " 'sqlite',\n",
       " 'sysroot_linux-64',\n",
       " 'tiktoken',\n",
       " 'tomli',\n",
       " 'ucx',\n",
       " 'xkeyboard-config'}"
      ]
     },
     "execution_count": 37,
     "metadata": {},
     "output_type": "execute_result"
    }
   ],
   "source": [
    "set_lama3_requirements - set_ai_requirements"
   ]
  },
  {
   "cell_type": "code",
   "execution_count": null,
   "metadata": {},
   "outputs": [],
   "source": []
  }
 ],
 "metadata": {
  "kernelspec": {
   "display_name": "ai",
   "language": "python",
   "name": "python3"
  },
  "language_info": {
   "codemirror_mode": {
    "name": "ipython",
    "version": 3
   },
   "file_extension": ".py",
   "mimetype": "text/x-python",
   "name": "python",
   "nbconvert_exporter": "python",
   "pygments_lexer": "ipython3",
   "version": "3.12.3"
  }
 },
 "nbformat": 4,
 "nbformat_minor": 2
}
