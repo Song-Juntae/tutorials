{
 "cells": [
  {
   "cell_type": "markdown",
   "metadata": {},
   "source": [
    "# **데이터분석**"
   ]
  },
  {
   "cell_type": "code",
   "execution_count": null,
   "metadata": {},
   "outputs": [],
   "source": [
    "# python tqdm missingno numpy pandas matplotlib seaborn scikit-learn"
   ]
  },
  {
   "cell_type": "code",
   "execution_count": null,
   "metadata": {},
   "outputs": [],
   "source": [
    "'''\n",
    "환경\n",
    "    라이브러리 로드\n",
    "    데이터 불러오기\n",
    "    인풋 아웃풋 경로 계획\n",
    "\n",
    "변수 분석\n",
    "    각 변수 속성, 통계치, 왜도, 첨도, 분포 시각화\n",
    "    변수 간 공분산, 상관성, 거리 시각화\n",
    "\n",
    "변수 처리\n",
    "    결측값 처리\n",
    "        제거\n",
    "        대치\n",
    "        보간\n",
    "        다중 대치\n",
    "    이상치 처리\n",
    "        제거\n",
    "        대치\n",
    "    이산 -> 범주\n",
    "        구간화\n",
    "    범수 -> 이산\n",
    "        가변수\n",
    "    데이터 표준화, 정규화 스케일링\n",
    "    파생변수\n",
    "    언더샘플링, 오버샘플링\n",
    "        SMOTE\n",
    "\n",
    "시간\n",
    "    슬라이딩 윈도우\n",
    "공간\n",
    "'''"
   ]
  },
  {
   "cell_type": "markdown",
   "metadata": {},
   "source": [
    "## **환경**"
   ]
  },
  {
   "cell_type": "code",
   "execution_count": null,
   "metadata": {},
   "outputs": [],
   "source": [
    "# 라이브러리\n",
    "\n",
    "'''\n",
    "import os\n",
    "import itertools\n",
    "from tqdm import trange\n",
    "from tqdm import tqdm\n",
    "from collections import Counter\n",
    "\n",
    "import json\n",
    "import requests\n",
    "from bs4 import BeautifulSoup as bs4\n",
    "\n",
    "import numpy as np\n",
    "import pandas as pd\n",
    "import matplotlib.pyplot as plt\n",
    "import matplotlib.font_manager as fm\n",
    "\n",
    "font_path = '/usr/share/fonts/truetype/nanum/NanumGothic.ttf'\n",
    "fm.fontManager.addfont(font_path)\n",
    "font_name = fm.FontProperties(fname=font_path).get_name()\n",
    "plt.rcParams['font.family'] = font_name\n",
    "plt.rcParams['axes.unicode_minus'] = False\n",
    "\n",
    "%matplotlib inline\n",
    "\n",
    "import missingno as msno\n",
    "import seaborn as sns\n",
    "\n",
    "from sklearn.preprocessing import OneHotEncoder\n",
    "from sklearn.model_selection import train_test_split\n",
    "\n",
    "from sklearn.ensemble import RandomForestClassifier\n",
    "\n",
    "from sklearn.metrics import r2_score\n",
    "from sklearn.metrics import mean_squared_error\n",
    "\n",
    "from skimage import io\n",
    "\n",
    "import tensorflow as tf\n",
    "from transformers import AutoModelForCausalLM, AutoTokenizer, pipeline\n",
    "import torch\n",
    "'''"
   ]
  },
  {
   "cell_type": "code",
   "execution_count": null,
   "metadata": {},
   "outputs": [],
   "source": [
    "# 데이터 불러오기\n",
    "\n",
    "'''\n",
    "데이터_경로 = ''\n",
    "\n",
    "df = pd.read_csv(데이터_경로)\n",
    "'''"
   ]
  },
  {
   "cell_type": "markdown",
   "metadata": {},
   "source": [
    "## **각 변수 확인**"
   ]
  },
  {
   "cell_type": "code",
   "execution_count": null,
   "metadata": {},
   "outputs": [],
   "source": []
  },
  {
   "cell_type": "code",
   "execution_count": null,
   "metadata": {},
   "outputs": [],
   "source": [
    "# EDA 탐색적 데이터 분석\n",
    "# Tabular\n",
    "\n",
    "'''\n",
    "\n",
    "df.head()\n",
    "df.info()\n",
    "df.describe()\n",
    "df.skew()\n",
    "df.kurtosis()\n",
    "\n",
    "\n",
    "\n",
    "#\n",
    "\n",
    "\n",
    "\n",
    "'''"
   ]
  },
  {
   "cell_type": "code",
   "execution_count": null,
   "metadata": {},
   "outputs": [],
   "source": [
    "# EDA 탐색적 데이터 분석\n",
    "# Time series"
   ]
  },
  {
   "cell_type": "code",
   "execution_count": null,
   "metadata": {},
   "outputs": [],
   "source": [
    "# EDA 탐색적 데이터 분석\n",
    "# Images"
   ]
  },
  {
   "cell_type": "code",
   "execution_count": null,
   "metadata": {},
   "outputs": [],
   "source": [
    "# EDA 탐색적 데이터 분석\n",
    "# Texts"
   ]
  },
  {
   "cell_type": "code",
   "execution_count": null,
   "metadata": {},
   "outputs": [],
   "source": [
    "# EDA 탐색적 데이터 분석\n",
    "# Audio"
   ]
  }
 ],
 "metadata": {
  "language_info": {
   "name": "python"
  }
 },
 "nbformat": 4,
 "nbformat_minor": 2
}
